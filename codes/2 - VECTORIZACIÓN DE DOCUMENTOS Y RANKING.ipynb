{
 "cells": [
  {
   "cell_type": "markdown",
   "metadata": {},
   "source": [
    "# IIC-3670 NLP UC"
   ]
  },
  {
   "cell_type": "markdown",
   "metadata": {},
   "source": [
    "- Versiones de librerías, python 3.8.10\n",
    "\n",
    "- numpy 1.20.3\n",
    "- nltk 3.7\n",
    "- rank_bm25 0.2.2"
   ]
  },
  {
   "cell_type": "code",
   "execution_count": 1,
   "metadata": {},
   "outputs": [],
   "source": [
    "class InvertedIndex:\n",
    "\n",
    "    def __init__(self):\n",
    "        self.index = dict()\n",
    "\n",
    "    def __contains__(self, item):\n",
    "        return item in self.index\n",
    "\n",
    "    def __getitem__(self, item):\n",
    "        return self.index[item]\n",
    "\n",
    "    def add(self, word, docid):\n",
    "        if word in self.index:\n",
    "            if docid in self.index[word]:\n",
    "                self.index[word][docid] += 1\n",
    "            else:\n",
    "                self.index[word][docid] = 1\n",
    "        else:\n",
    "            d = dict()\n",
    "            d[docid] = 1\n",
    "            self.index[word] = d\n",
    "\n",
    "    #frequency of word in document, Tf\n",
    "    def get_document_frequency(self, word, docid):\n",
    "        if word in self.index:\n",
    "            if docid in self.index[word]:\n",
    "                return self.index[word][docid]\n",
    "            else:\n",
    "                raise LookupError('%s not in document %s' % (str(word), str(docid)))\n",
    "        else:\n",
    "            raise LookupError('%s not in index' % str(word))\n",
    "\n",
    "    #number of documents that contain word, ni\n",
    "    def get_index_frequency(self, word):\n",
    "        if word in self.index:\n",
    "            return len(self.index[word])\n",
    "        else:\n",
    "            raise LookupError('%s not in index' % word)\n",
    "\n",
    "\n",
    "class DocumentLengthTable:\n",
    "\n",
    "    def __init__(self):\n",
    "        self.table = dict()\n",
    "\n",
    "    def __len__(self):\n",
    "        return len(self.table)\n",
    "\n",
    "    def add(self, docid, length):\n",
    "        self.table[docid] = length\n",
    "\n",
    "    def get_length(self, docid): #dl\n",
    "        if docid in self.table:\n",
    "            return self.table[docid]\n",
    "        else:\n",
    "            raise LookupError('%s not found in table' % str(docid))\n",
    "\n",
    "    def get_average_length(self): #avgdl\n",
    "        sum = 0 \n",
    "        for length in self.table.values():\n",
    "            sum += length\n",
    "        return float(sum) / float(len(self.table))\n",
    "\n",
    "\n",
    "def build_data_structures(corpus):\n",
    "    idx = InvertedIndex()\n",
    "    dlt = DocumentLengthTable()\n",
    "    for docid in corpus:\n",
    "\n",
    "        #build inverted index, sequential scan\n",
    "        for word in corpus[docid]:\n",
    "            idx.add(str(word), str(docid))\n",
    "\n",
    "        #build document length table\n",
    "        length = len(corpus[str(docid)])\n",
    "        dlt.add(docid, length)\n",
    "    return idx, dlt"
   ]
  },
  {
   "cell_type": "code",
   "execution_count": 2,
   "metadata": {},
   "outputs": [],
   "source": [
    "from nltk.corpus import stopwords\n",
    "from nltk.tokenize import RegexpTokenizer, sent_tokenize\n",
    "from nltk.stem import WordNetLemmatizer\n",
    "\n",
    "# Load stop-words\n",
    "stop_words = set(stopwords.words('english'))\n",
    "\n",
    "# Initialize tokenizer\n",
    "# It's also possible to try with a stemmer or to mix a stemmer and a lemmatizer\n",
    "tokenizer = RegexpTokenizer('[\\'a-zA-Z]+')\n",
    "\n",
    "# Initialize lemmatizer\n",
    "lemmatizer = WordNetLemmatizer()\n",
    "\n",
    "def tokenize(document):\n",
    "    words = []\n",
    "\n",
    "    for sentence in sent_tokenize(document):\n",
    "        tokens = [lemmatizer.lemmatize(t.lower()) for t in tokenizer.tokenize(sentence) if t.lower() not in stop_words and len(t) > 2]\n",
    "        words += tokens\n",
    "\n",
    "    return words\n"
   ]
  },
  {
   "cell_type": "code",
   "execution_count": 3,
   "metadata": {},
   "outputs": [],
   "source": [
    "import re\n",
    "\n",
    "\n",
    "class CorpusParser:\n",
    "\n",
    "    def __init__(self, filename):\n",
    "        self.filename = filename\n",
    "        self.regex = re.compile('^#\\s*\\d+')\n",
    "        self.corpus = dict()\n",
    "\n",
    "    def parse(self):\n",
    "        with open(self.filename) as f:\n",
    "            s = ''.join(f.readlines())\n",
    "        blobs = s.split('#')[1:]\n",
    "        for doc in blobs:\n",
    "            text = doc.split()\n",
    "            docid = text.pop(0)\n",
    "            words = tokenize(doc)\n",
    "            self.corpus[docid] = words\n",
    "\n",
    "    def get_corpus(self):\n",
    "        return self.corpus\n"
   ]
  },
  {
   "cell_type": "code",
   "execution_count": 4,
   "metadata": {},
   "outputs": [],
   "source": [
    "from math import log\n",
    "\n",
    "k1 = 1.2\n",
    "k2 = 100\n",
    "b = 0.75\n",
    "R = 0.0\n",
    "\n",
    "\n",
    "def score_BM25(n, f, qf, r, N, dl, avdl):\n",
    "    K = compute_K(dl, avdl)\n",
    "    first = log( ( (r + 0.5) / (R - r + 0.5) ) / ( (n - r + 0.5) / (N - n - R + r + 0.5)) )\n",
    "    second = ((k1 + 1) * f) / (K + f)\n",
    "    third = ((k2+1) * qf) / (k2 + qf)\n",
    "    return first * second * third\n",
    "\n",
    "\n",
    "def compute_K(dl, avdl):\n",
    "    return k1 * ((1-b) + b * (float(dl)/float(avdl)) )\n"
   ]
  },
  {
   "cell_type": "code",
   "execution_count": 5,
   "metadata": {},
   "outputs": [],
   "source": [
    "def run_query(index, dlt, query):\n",
    "        query_result = dict()\n",
    "        query_words = tokenize(query)\n",
    "        for term in query_words:\n",
    "            if term in index:\n",
    "                doc_dict = index[term] # retrieve index entry\n",
    "                for docid, freq in doc_dict.items(): #for each document and its word frequency\n",
    "                    score = score_BM25(n=len(doc_dict), f=freq, qf=1, r=0, N=len(dlt), dl=dlt.get_length(docid), avdl=dlt.get_average_length()) # calculate score\n",
    "                    if docid in query_result: #this document has already been scored once\n",
    "                        query_result[docid] += score\n",
    "                    else:\n",
    "                        query_result[docid] = score\n",
    "        return query_result\n",
    "    "
   ]
  },
  {
   "cell_type": "code",
   "execution_count": 6,
   "metadata": {},
   "outputs": [],
   "source": [
    "cp = CorpusParser(filename='corpus.txt')\n",
    "cp.parse()\n",
    "corpus = cp.get_corpus()\n",
    "index, dlt = build_data_structures(corpus)"
   ]
  },
  {
   "cell_type": "code",
   "execution_count": 7,
   "metadata": {},
   "outputs": [],
   "source": [
    "results = run_query(index, dlt, 'technical reports of the acm')\n",
    "sorted_results = dict(sorted(results.items(), key=lambda item:item[1], reverse=True))"
   ]
  },
  {
   "cell_type": "code",
   "execution_count": 8,
   "metadata": {},
   "outputs": [
    {
     "data": {
      "text/plain": [
       "{'1086': 10.433949617811995,\n",
       " '1205': 10.433949617811995,\n",
       " '3160': 7.432146001767313,\n",
       " '1755': 7.333074152250927,\n",
       " '890': 6.977090230228319,\n",
       " '2479': 6.764632049818148,\n",
       " '1771': 6.6785328086382005,\n",
       " '254': 6.603175415133218,\n",
       " '2154': 6.522801024373269,\n",
       " '1025': 6.4923093674946815,\n",
       " '3197': 6.359633678576809,\n",
       " '231': 6.329616271070884,\n",
       " '1770': 6.18690489936923,\n",
       " '1120': 6.149079286928533,\n",
       " '3195': 6.0474425149648585,\n",
       " '177': 5.817234233578342,\n",
       " '768': 5.817234233578342,\n",
       " '3161': 5.817234233578342,\n",
       " '1796': 5.73979489452791,\n",
       " '248': 5.726190230590009,\n",
       " '2852': 5.681485443011152,\n",
       " '2689': 5.674953920844127,\n",
       " '2607': 5.664390223269911,\n",
       " '767': 5.5909410702647975,\n",
       " '1397': 5.57374234680908,\n",
       " '1238': 5.518715574729853,\n",
       " '1194': 5.518121207076675,\n",
       " '1476': 5.297022933345598,\n",
       " '2303': 5.250527717312686,\n",
       " '599': 5.175302610279826,\n",
       " '947': 5.175302610279826,\n",
       " '985': 5.175302610279826,\n",
       " '2538': 5.151636940442143,\n",
       " '584': 5.098197254384161,\n",
       " '147': 5.023355711941708,\n",
       " '196': 5.023355711941708,\n",
       " '984': 5.023355711941708,\n",
       " '3130': 5.01793227423592,\n",
       " '1121': 5.006657083928822,\n",
       " '1': 4.950679726996563,\n",
       " '3184': 4.867687016477119,\n",
       " '65': 4.811459036853022,\n",
       " '601': 4.811459036853022,\n",
       " '946': 4.744744301440126,\n",
       " '616': 4.66089345106517,\n",
       " '1416': 4.60562540236697,\n",
       " '689': 4.5552574175120535,\n",
       " '1616': 4.439592697483919,\n",
       " '1531': 4.270979836164878,\n",
       " '2822': 4.1812763095294345,\n",
       " '2583': 4.166961671913265,\n",
       " '724': 4.155188173082855,\n",
       " '644': 4.059277238613459,\n",
       " '329': 3.988309496573034,\n",
       " '321': 3.9778242394069734,\n",
       " '2077': 3.9734193011406975,\n",
       " '1309': 3.8535668219156785,\n",
       " '531': 3.843777203925212,\n",
       " '2181': 3.826259573042557,\n",
       " '1278': 3.7782436613737356,\n",
       " '1428': 3.714620499541161,\n",
       " '691': 3.560037688514524,\n",
       " '721': 3.560037688514524,\n",
       " '2031': 3.5020560009536967,\n",
       " '2522': 3.48114061944475,\n",
       " '1472': 3.4178066944108334,\n",
       " '2226': 3.4178066944108334,\n",
       " '2679': 3.391859047750302,\n",
       " '679': 3.288385526515501,\n",
       " '2140': 3.288385526515501,\n",
       " '146': 3.2552396073766774,\n",
       " '698': 3.224564492986166,\n",
       " '1445': 3.1649165476155545,\n",
       " '2584': 3.135912516393399,\n",
       " '3003': 3.135912516393399,\n",
       " '2930': 3.107435257084552,\n",
       " '2163': 3.0553648200690127,\n",
       " '675': 3.047154149766333,\n",
       " '2389': 2.896975501854951,\n",
       " '1659': 2.872655670576483,\n",
       " '1765': 2.872655670576483,\n",
       " '1927': 2.848740765281846,\n",
       " '1937': 2.7793269390332487,\n",
       " '2298': 2.756934661260588,\n",
       " '1062': 2.7132153910727546,\n",
       " '2048': 2.7132153910727546,\n",
       " '1764': 2.7097350654502956,\n",
       " '1518': 2.6918716383315537,\n",
       " '1900': 2.6918716383315537,\n",
       " '2283': 2.6708610696665573,\n",
       " '2777': 2.6708610696665573,\n",
       " '2198': 2.667145656171103,\n",
       " '2151': 2.6501759438051495,\n",
       " '3099': 2.6298087574482643,\n",
       " '2268': 2.570543184312604,\n",
       " '3050': 2.570543184312604,\n",
       " '1349': 2.5513771733450423,\n",
       " '2527': 2.5513771733450423,\n",
       " '464': 2.5324948513546657,\n",
       " '1601': 2.5324948513546657,\n",
       " '2147': 2.513889966007862,\n",
       " '2959': 2.513889966007862,\n",
       " '462': 2.477488401259321,\n",
       " '637': 2.424820662684931,\n",
       " '2988': 2.4077588654215227,\n",
       " '1325': 2.3909354948069255,\n",
       " '3090': 2.3909354948069255,\n",
       " '1236': 2.3743455877512294,\n",
       " '3117': 2.3743455877512294,\n",
       " '1051': 2.325929041138685,\n",
       " '1889': 2.3102260243341504,\n",
       " '2593': 2.3102260243341504,\n",
       " '2274': 2.2202872331259673,\n",
       " '1272': 2.205973870045264,\n",
       " '3001': 2.1918438707057386,\n",
       " '2380': 2.1641200474489573,\n",
       " '1846': 2.0977847858337078,\n",
       " '972': 2.0850027589175624,\n",
       " '1315': 2.0850027589175624,\n",
       " '2197': 2.0475744882975646,\n",
       " '1705': 1.9767694811355847,\n",
       " '2998': 1.9766095212212247,\n",
       " '1946': 1.9103987979607093,\n",
       " '2188': 1.8893033914638175,\n",
       " '2979': 1.8686687848743155,\n",
       " '2396': 1.8585195889510568,\n",
       " '1862': 1.799866505179427,\n",
       " '2046': 1.727188631117648,\n",
       " '2911': 1.6682459282894284}"
      ]
     },
     "execution_count": 8,
     "metadata": {},
     "output_type": "execute_result"
    }
   ],
   "source": [
    "sorted_results"
   ]
  },
  {
   "cell_type": "markdown",
   "metadata": {},
   "source": [
    "Usaremos una librería llamada rank_bm25"
   ]
  },
  {
   "cell_type": "markdown",
   "metadata": {},
   "source": [
    "> python3 -m pip install rank_bm25"
   ]
  },
  {
   "cell_type": "code",
   "execution_count": 9,
   "metadata": {},
   "outputs": [],
   "source": [
    "from rank_bm25 import BM25Okapi\n",
    "\n",
    "corpus = [\n",
    "    \"Hello there good man!\",\n",
    "    \"It is quite windy in London\",\n",
    "    \"How is the weather today?\"\n",
    "]\n",
    "\n",
    "tokenized_corpus = [tokenize(doc) for doc in corpus]\n",
    "bm25 = BM25Okapi(tokenized_corpus)"
   ]
  },
  {
   "cell_type": "code",
   "execution_count": 10,
   "metadata": {},
   "outputs": [
    {
     "data": {
      "text/plain": [
       "[['hello', 'good', 'man'], ['quite', 'windy', 'london'], ['weather', 'today']]"
      ]
     },
     "execution_count": 10,
     "metadata": {},
     "output_type": "execute_result"
    }
   ],
   "source": [
    "tokenized_corpus"
   ]
  },
  {
   "cell_type": "code",
   "execution_count": 11,
   "metadata": {},
   "outputs": [
    {
     "name": "stdout",
     "output_type": "stream",
     "text": [
      "['It is quite windy in London', 'How is the weather today?']\n"
     ]
    }
   ],
   "source": [
    "query = \"windy London\"\n",
    "tokenized_query = tokenize(query)\n",
    "\n",
    "doc_scores = bm25.get_scores(tokenized_query)\n",
    "result = bm25.get_top_n(tokenized_query, corpus, n=2)\n",
    "\n",
    "print(result)"
   ]
  },
  {
   "cell_type": "markdown",
   "metadata": {},
   "source": [
    "Para otras configuraciones ver: https://github.com/dorianbrown/rank_bm25"
   ]
  },
  {
   "cell_type": "code",
   "execution_count": null,
   "metadata": {},
   "outputs": [],
   "source": []
  }
 ],
 "metadata": {
  "kernelspec": {
   "display_name": "Python 3",
   "language": "python",
   "name": "python3"
  },
  "language_info": {
   "codemirror_mode": {
    "name": "ipython",
    "version": 3
   },
   "file_extension": ".py",
   "mimetype": "text/x-python",
   "name": "python",
   "nbconvert_exporter": "python",
   "pygments_lexer": "ipython3",
   "version": "3.8.10"
  }
 },
 "nbformat": 4,
 "nbformat_minor": 4
}
