{
 "cells": [
  {
   "cell_type": "markdown",
   "metadata": {},
   "source": [
    "# IIC-3670 NLP UC"
   ]
  },
  {
   "cell_type": "markdown",
   "metadata": {},
   "source": [
    "- Versiones de librerías, python 3.8.10\n",
    "\n",
    "- numpy\n",
    "- torch \n",
    "- torchtext\n",
    "- torchdata \n"
   ]
  },
  {
   "cell_type": "code",
   "execution_count": 1,
   "metadata": {},
   "outputs": [],
   "source": [
    "import torch\n",
    "import torch.nn as nn\n",
    "import torch.optim as optim\n",
    "import torch.utils.data as data\n",
    "import math\n",
    "import copy"
   ]
  },
  {
   "cell_type": "markdown",
   "metadata": {},
   "source": [
    "## Vamos a definir las componentes del transformer. Comenzamos con los cabezales."
   ]
  },
  {
   "cell_type": "code",
   "execution_count": 2,
   "metadata": {},
   "outputs": [],
   "source": [
    "class MultiHeadAttention(nn.Module):\n",
    "    def __init__(self, d_model, num_heads):\n",
    "        super(MultiHeadAttention, self).__init__()\n",
    "        # Ensure that the model dimension (d_model) is divisible by the number of heads\n",
    "        assert d_model % num_heads == 0, \"d_model must be divisible by num_heads\"\n",
    "        \n",
    "        # Initialize dimensions\n",
    "        self.d_model = d_model # Model's dimension\n",
    "        self.num_heads = num_heads # Number of attention heads\n",
    "        self.d_k = d_model // num_heads # Dimension of each head's key, query, and value\n",
    "        \n",
    "        # Linear layers for transforming inputs\n",
    "        self.W_q = nn.Linear(d_model, d_model) # Query transformation\n",
    "        self.W_k = nn.Linear(d_model, d_model) # Key transformation\n",
    "        self.W_v = nn.Linear(d_model, d_model) # Value transformation\n",
    "        self.W_o = nn.Linear(d_model, d_model) # Output transformation\n",
    "        \n",
    "    def scaled_dot_product_attention(self, Q, K, V, mask=None):\n",
    "        # Calculate attention scores\n",
    "        attn_scores = torch.matmul(Q, K.transpose(-2, -1)) / math.sqrt(self.d_k)\n",
    "        \n",
    "        # Apply mask if provided (useful for preventing attention to certain parts like padding)\n",
    "        if mask is not None:\n",
    "            attn_scores = attn_scores.masked_fill(mask == 0, -1e9)\n",
    "        \n",
    "        # Softmax is applied to obtain attention probabilities\n",
    "        attn_probs = torch.softmax(attn_scores, dim=-1)\n",
    "        \n",
    "        # Multiply by values to obtain the final output\n",
    "        output = torch.matmul(attn_probs, V)\n",
    "        return output\n",
    "        \n",
    "    def split_heads(self, x):\n",
    "        # Reshape the input to have num_heads for multi-head attention\n",
    "        batch_size, seq_length, d_model = x.size()\n",
    "        return x.view(batch_size, seq_length, self.num_heads, self.d_k).transpose(1, 2)\n",
    "        \n",
    "    def combine_heads(self, x):\n",
    "        # Combine the multiple heads back to original shape\n",
    "        batch_size, _, seq_length, d_k = x.size()\n",
    "        return x.transpose(1, 2).contiguous().view(batch_size, seq_length, self.d_model)\n",
    "        \n",
    "    def forward(self, Q, K, V, mask=None):\n",
    "        # Apply linear transformations and split heads\n",
    "        Q = self.split_heads(self.W_q(Q))\n",
    "        K = self.split_heads(self.W_k(K))\n",
    "        V = self.split_heads(self.W_v(V))\n",
    "        \n",
    "        # Perform scaled dot-product attention\n",
    "        attn_output = self.scaled_dot_product_attention(Q, K, V, mask)\n",
    "        \n",
    "        # Combine heads and apply output transformation\n",
    "        output = self.W_o(self.combine_heads(attn_output))\n",
    "        return output"
   ]
  },
  {
   "cell_type": "markdown",
   "metadata": {},
   "source": [
    "## Este es el módulo que va a la salida de multihead attention"
   ]
  },
  {
   "cell_type": "code",
   "execution_count": 4,
   "metadata": {},
   "outputs": [],
   "source": [
    "class PositionWiseFeedForward(nn.Module):\n",
    "    def __init__(self, d_model, d_ff):\n",
    "        super(PositionWiseFeedForward, self).__init__()\n",
    "        self.fc1 = nn.Linear(d_model, d_ff)\n",
    "        self.fc2 = nn.Linear(d_ff, d_model)\n",
    "        self.relu = nn.ReLU()\n",
    "\n",
    "    def forward(self, x):\n",
    "        return self.fc2(self.relu(self.fc1(x)))"
   ]
  },
  {
   "cell_type": "markdown",
   "metadata": {},
   "source": [
    "## Aquí se definen los positional encodings"
   ]
  },
  {
   "cell_type": "code",
   "execution_count": 5,
   "metadata": {},
   "outputs": [],
   "source": [
    "class PositionalEncoding(nn.Module):\n",
    "    def __init__(self, d_model, max_seq_length):\n",
    "        super(PositionalEncoding, self).__init__()\n",
    "        \n",
    "        pe = torch.zeros(max_seq_length, d_model)\n",
    "        position = torch.arange(0, max_seq_length, dtype=torch.float).unsqueeze(1)\n",
    "        div_term = torch.exp(torch.arange(0, d_model, 2).float() * -(math.log(10000.0) / d_model))\n",
    "        \n",
    "        pe[:, 0::2] = torch.sin(position * div_term)\n",
    "        pe[:, 1::2] = torch.cos(position * div_term)\n",
    "        \n",
    "        self.register_buffer('pe', pe.unsqueeze(0))\n",
    "        \n",
    "    def forward(self, x):\n",
    "        return x + self.pe[:, :x.size(1)]"
   ]
  },
  {
   "cell_type": "markdown",
   "metadata": {},
   "source": [
    "## El encoder es self attention + position wise FF. Se definen las layer norms."
   ]
  },
  {
   "cell_type": "code",
   "execution_count": 6,
   "metadata": {},
   "outputs": [],
   "source": [
    "class EncoderLayer(nn.Module):\n",
    "    def __init__(self, d_model, num_heads, d_ff, dropout):\n",
    "        super(EncoderLayer, self).__init__()\n",
    "        self.self_attn = MultiHeadAttention(d_model, num_heads)\n",
    "        self.feed_forward = PositionWiseFeedForward(d_model, d_ff)\n",
    "        self.norm1 = nn.LayerNorm(d_model)\n",
    "        self.norm2 = nn.LayerNorm(d_model)\n",
    "        self.dropout = nn.Dropout(dropout)\n",
    "        \n",
    "    def forward(self, x, mask):\n",
    "        attn_output = self.self_attn(x, x, x, mask)\n",
    "        x = self.norm1(x + self.dropout(attn_output))\n",
    "        ff_output = self.feed_forward(x)\n",
    "        x = self.norm2(x + self.dropout(ff_output))\n",
    "        return x"
   ]
  },
  {
   "cell_type": "markdown",
   "metadata": {},
   "source": [
    "## El decoder incluye además de self attention un cross attention que lo conecta al encoder. "
   ]
  },
  {
   "cell_type": "code",
   "execution_count": 7,
   "metadata": {},
   "outputs": [],
   "source": [
    "class DecoderLayer(nn.Module):\n",
    "    def __init__(self, d_model, num_heads, d_ff, dropout):\n",
    "        super(DecoderLayer, self).__init__()\n",
    "        self.self_attn = MultiHeadAttention(d_model, num_heads)\n",
    "        self.cross_attn = MultiHeadAttention(d_model, num_heads)\n",
    "        self.feed_forward = PositionWiseFeedForward(d_model, d_ff)\n",
    "        self.norm1 = nn.LayerNorm(d_model)\n",
    "        self.norm2 = nn.LayerNorm(d_model)\n",
    "        self.norm3 = nn.LayerNorm(d_model)\n",
    "        self.dropout = nn.Dropout(dropout)\n",
    "        \n",
    "    def forward(self, x, enc_output, src_mask, tgt_mask):\n",
    "        attn_output = self.self_attn(x, x, x, tgt_mask)\n",
    "        x = self.norm1(x + self.dropout(attn_output))\n",
    "        attn_output = self.cross_attn(x, enc_output, enc_output, src_mask)\n",
    "        x = self.norm2(x + self.dropout(attn_output))\n",
    "        ff_output = self.feed_forward(x)\n",
    "        x = self.norm3(x + self.dropout(ff_output))\n",
    "        return x"
   ]
  },
  {
   "cell_type": "markdown",
   "metadata": {},
   "source": [
    "## El transformer se define a partir de bloques encoder-decoder. Hay varios hiperárámetros, entre ellos destacan el número de cabezales y el número de bloques transformer"
   ]
  },
  {
   "cell_type": "code",
   "execution_count": 8,
   "metadata": {},
   "outputs": [],
   "source": [
    "class Transformer(nn.Module):\n",
    "    def __init__(self, src_vocab_size, tgt_vocab_size, d_model, num_heads, num_layers, d_ff, max_seq_length, dropout):\n",
    "        super(Transformer, self).__init__()\n",
    "        self.encoder_embedding = nn.Embedding(src_vocab_size, d_model)\n",
    "        self.decoder_embedding = nn.Embedding(tgt_vocab_size, d_model)\n",
    "        self.positional_encoding = PositionalEncoding(d_model, max_seq_length)\n",
    "\n",
    "        self.encoder_layers = nn.ModuleList([EncoderLayer(d_model, num_heads, d_ff, dropout) for _ in range(num_layers)])\n",
    "        self.decoder_layers = nn.ModuleList([DecoderLayer(d_model, num_heads, d_ff, dropout) for _ in range(num_layers)])\n",
    "\n",
    "        self.fc = nn.Linear(d_model, tgt_vocab_size)\n",
    "        self.dropout = nn.Dropout(dropout)\n",
    "\n",
    "    def generate_mask(self, src, tgt):\n",
    "        src_mask = (src != 0).unsqueeze(1).unsqueeze(2)\n",
    "        tgt_mask = (tgt != 0).unsqueeze(1).unsqueeze(3)\n",
    "        seq_length = tgt.size(1)\n",
    "        nopeak_mask = (1 - torch.triu(torch.ones(1, seq_length, seq_length), diagonal=1)).bool()\n",
    "        tgt_mask = tgt_mask & nopeak_mask\n",
    "        return src_mask, tgt_mask\n",
    "\n",
    "    def forward(self, src, tgt):\n",
    "        src_mask, tgt_mask = self.generate_mask(src, tgt)\n",
    "        src_embedded = self.dropout(self.positional_encoding(self.encoder_embedding(src)))\n",
    "        tgt_embedded = self.dropout(self.positional_encoding(self.decoder_embedding(tgt)))\n",
    "\n",
    "        enc_output = src_embedded\n",
    "        for enc_layer in self.encoder_layers:\n",
    "            enc_output = enc_layer(enc_output, src_mask)\n",
    "\n",
    "        dec_output = tgt_embedded\n",
    "        for dec_layer in self.decoder_layers:\n",
    "            dec_output = dec_layer(dec_output, enc_output, src_mask, tgt_mask)\n",
    "\n",
    "        output = self.fc(dec_output)\n",
    "        return output"
   ]
  },
  {
   "cell_type": "markdown",
   "metadata": {},
   "source": [
    "## Creamos una instancia del transformer"
   ]
  },
  {
   "cell_type": "code",
   "execution_count": 9,
   "metadata": {},
   "outputs": [],
   "source": [
    "src_vocab_size = 5000\n",
    "tgt_vocab_size = 5000\n",
    "d_model = 512\n",
    "num_heads = 8\n",
    "num_layers = 6\n",
    "d_ff = 2048\n",
    "max_seq_length = 100\n",
    "dropout = 0.1\n",
    "\n",
    "transformer = Transformer(src_vocab_size, tgt_vocab_size, d_model, num_heads, num_layers, d_ff, max_seq_length, dropout)\n",
    "\n",
    "# Generate random sample data\n",
    "src_data = torch.randint(1, src_vocab_size, (64, max_seq_length))  # (batch_size, seq_length)\n",
    "tgt_data = torch.randint(1, tgt_vocab_size, (64, max_seq_length))  # (batch_size, seq_length)"
   ]
  },
  {
   "cell_type": "code",
   "execution_count": 13,
   "metadata": {},
   "outputs": [
    {
     "data": {
      "text/plain": [
       "tensor([[3032,  566, 3754,  ..., 3786, 3929, 4357],\n",
       "        [3025, 1864,  861,  ..., 1589, 4598, 2744],\n",
       "        [3486, 3148,  474,  ..., 1677, 3566,  559],\n",
       "        ...,\n",
       "        [2775, 4680, 1172,  ..., 3629, 2860, 2737],\n",
       "        [3798, 1693,  604,  ..., 1545, 2269, 3984],\n",
       "        [3003, 2606, 3395,  ..., 1372, 3815, 3741]])"
      ]
     },
     "execution_count": 13,
     "metadata": {},
     "output_type": "execute_result"
    }
   ],
   "source": [
    "src_data"
   ]
  },
  {
   "cell_type": "markdown",
   "metadata": {},
   "source": [
    "## Y entrenamos con cross entropy loss, Adam y 100 epochs"
   ]
  },
  {
   "cell_type": "code",
   "execution_count": 11,
   "metadata": {
    "scrolled": true
   },
   "outputs": [
    {
     "name": "stdout",
     "output_type": "stream",
     "text": [
      "Epoch: 1, Loss: 8.678772926330566\n",
      "Epoch: 2, Loss: 8.552660942077637\n",
      "Epoch: 3, Loss: 8.476820945739746\n",
      "Epoch: 4, Loss: 8.423473358154297\n",
      "Epoch: 5, Loss: 8.363926887512207\n",
      "Epoch: 6, Loss: 8.296280860900879\n",
      "Epoch: 7, Loss: 8.222540855407715\n",
      "Epoch: 8, Loss: 8.132548332214355\n",
      "Epoch: 9, Loss: 8.054644584655762\n",
      "Epoch: 10, Loss: 7.9773077964782715\n",
      "Epoch: 11, Loss: 7.894527435302734\n",
      "Epoch: 12, Loss: 7.80490255355835\n",
      "Epoch: 13, Loss: 7.725216865539551\n",
      "Epoch: 14, Loss: 7.644282817840576\n",
      "Epoch: 15, Loss: 7.561827182769775\n",
      "Epoch: 16, Loss: 7.472819805145264\n",
      "Epoch: 17, Loss: 7.3902692794799805\n",
      "Epoch: 18, Loss: 7.310577869415283\n",
      "Epoch: 19, Loss: 7.235127925872803\n",
      "Epoch: 20, Loss: 7.152089595794678\n",
      "Epoch: 21, Loss: 7.069983959197998\n",
      "Epoch: 22, Loss: 6.9943342208862305\n",
      "Epoch: 23, Loss: 6.916499137878418\n",
      "Epoch: 24, Loss: 6.837133407592773\n",
      "Epoch: 25, Loss: 6.762057781219482\n",
      "Epoch: 26, Loss: 6.694421768188477\n",
      "Epoch: 27, Loss: 6.620481967926025\n",
      "Epoch: 28, Loss: 6.545609474182129\n",
      "Epoch: 29, Loss: 6.475055694580078\n",
      "Epoch: 30, Loss: 6.403103828430176\n",
      "Epoch: 31, Loss: 6.33396053314209\n",
      "Epoch: 32, Loss: 6.252298831939697\n",
      "Epoch: 33, Loss: 6.193052291870117\n",
      "Epoch: 34, Loss: 6.123371124267578\n",
      "Epoch: 35, Loss: 6.054863929748535\n",
      "Epoch: 36, Loss: 5.991213798522949\n",
      "Epoch: 37, Loss: 5.92758321762085\n",
      "Epoch: 38, Loss: 5.867295265197754\n",
      "Epoch: 39, Loss: 5.810240268707275\n",
      "Epoch: 40, Loss: 5.74162483215332\n",
      "Epoch: 41, Loss: 5.675895690917969\n",
      "Epoch: 42, Loss: 5.617122650146484\n",
      "Epoch: 43, Loss: 5.556572914123535\n",
      "Epoch: 44, Loss: 5.49827766418457\n",
      "Epoch: 45, Loss: 5.441470146179199\n",
      "Epoch: 46, Loss: 5.378015518188477\n",
      "Epoch: 47, Loss: 5.311436653137207\n",
      "Epoch: 48, Loss: 5.2568440437316895\n",
      "Epoch: 49, Loss: 5.203059196472168\n",
      "Epoch: 50, Loss: 5.144926071166992\n",
      "Epoch: 51, Loss: 5.089812755584717\n",
      "Epoch: 52, Loss: 5.031610012054443\n",
      "Epoch: 53, Loss: 4.971212387084961\n",
      "Epoch: 54, Loss: 4.919935703277588\n",
      "Epoch: 55, Loss: 4.8634796142578125\n",
      "Epoch: 56, Loss: 4.812163829803467\n",
      "Epoch: 57, Loss: 4.759279251098633\n",
      "Epoch: 58, Loss: 4.704020023345947\n",
      "Epoch: 59, Loss: 4.650374412536621\n",
      "Epoch: 60, Loss: 4.601466655731201\n",
      "Epoch: 61, Loss: 4.553274631500244\n",
      "Epoch: 62, Loss: 4.497350215911865\n",
      "Epoch: 63, Loss: 4.453027248382568\n",
      "Epoch: 64, Loss: 4.4042510986328125\n",
      "Epoch: 65, Loss: 4.352596282958984\n",
      "Epoch: 66, Loss: 4.292140007019043\n",
      "Epoch: 67, Loss: 4.243752479553223\n",
      "Epoch: 68, Loss: 4.196760654449463\n",
      "Epoch: 69, Loss: 4.146389007568359\n",
      "Epoch: 70, Loss: 4.097957134246826\n",
      "Epoch: 71, Loss: 4.044280529022217\n",
      "Epoch: 72, Loss: 3.999788284301758\n",
      "Epoch: 73, Loss: 3.949949264526367\n",
      "Epoch: 74, Loss: 3.9037582874298096\n",
      "Epoch: 75, Loss: 3.8512625694274902\n",
      "Epoch: 76, Loss: 3.806819200515747\n",
      "Epoch: 77, Loss: 3.753641128540039\n",
      "Epoch: 78, Loss: 3.708073139190674\n",
      "Epoch: 79, Loss: 3.6618943214416504\n",
      "Epoch: 80, Loss: 3.6128742694854736\n",
      "Epoch: 81, Loss: 3.5635924339294434\n",
      "Epoch: 82, Loss: 3.520441770553589\n",
      "Epoch: 83, Loss: 3.4741833209991455\n",
      "Epoch: 84, Loss: 3.4294750690460205\n",
      "Epoch: 85, Loss: 3.38191556930542\n",
      "Epoch: 86, Loss: 3.3358943462371826\n",
      "Epoch: 87, Loss: 3.292506456375122\n",
      "Epoch: 88, Loss: 3.244664430618286\n",
      "Epoch: 89, Loss: 3.21024227142334\n",
      "Epoch: 90, Loss: 3.173008680343628\n",
      "Epoch: 91, Loss: 3.1179661750793457\n",
      "Epoch: 92, Loss: 3.0749542713165283\n",
      "Epoch: 93, Loss: 3.027639627456665\n",
      "Epoch: 94, Loss: 2.9817328453063965\n",
      "Epoch: 95, Loss: 2.942455291748047\n",
      "Epoch: 96, Loss: 2.908170223236084\n",
      "Epoch: 97, Loss: 2.857792615890503\n",
      "Epoch: 98, Loss: 2.8186123371124268\n",
      "Epoch: 99, Loss: 2.768681287765503\n",
      "Epoch: 100, Loss: 2.7330105304718018\n"
     ]
    }
   ],
   "source": [
    "criterion = nn.CrossEntropyLoss(ignore_index=0)\n",
    "optimizer = optim.Adam(transformer.parameters(), lr=0.0001, betas=(0.9, 0.98), eps=1e-9)\n",
    "\n",
    "transformer.train()\n",
    "\n",
    "for epoch in range(100):\n",
    "    optimizer.zero_grad()\n",
    "    output = transformer(src_data, tgt_data[:, :-1])\n",
    "    loss = criterion(output.contiguous().view(-1, tgt_vocab_size), tgt_data[:, 1:].contiguous().view(-1))\n",
    "    loss.backward()\n",
    "    optimizer.step()\n",
    "    print(f\"Epoch: {epoch+1}, Loss: {loss.item()}\")"
   ]
  },
  {
   "cell_type": "markdown",
   "metadata": {},
   "source": [
    "## Esto es para mostrar que en inferencia hacemos no_grad"
   ]
  },
  {
   "cell_type": "code",
   "execution_count": 12,
   "metadata": {},
   "outputs": [
    {
     "name": "stdout",
     "output_type": "stream",
     "text": [
      "Validation Loss: 8.823921203613281\n"
     ]
    }
   ],
   "source": [
    "transformer.eval()\n",
    "\n",
    "# Generate random sample validation data\n",
    "val_src_data = torch.randint(1, src_vocab_size, (64, max_seq_length))  # (batch_size, seq_length)\n",
    "val_tgt_data = torch.randint(1, tgt_vocab_size, (64, max_seq_length))  # (batch_size, seq_length)\n",
    "\n",
    "with torch.no_grad():\n",
    "\n",
    "    val_output = transformer(val_src_data, val_tgt_data[:, :-1])\n",
    "    val_loss = criterion(val_output.contiguous().view(-1, tgt_vocab_size), val_tgt_data[:, 1:].contiguous().view(-1))\n",
    "    print(f\"Validation Loss: {val_loss.item()}\")"
   ]
  },
  {
   "cell_type": "code",
   "execution_count": null,
   "metadata": {},
   "outputs": [],
   "source": []
  }
 ],
 "metadata": {
  "kernelspec": {
   "display_name": "Python 3 (ipykernel)",
   "language": "python",
   "name": "python3"
  },
  "language_info": {
   "codemirror_mode": {
    "name": "ipython",
    "version": 3
   },
   "file_extension": ".py",
   "mimetype": "text/x-python",
   "name": "python",
   "nbconvert_exporter": "python",
   "pygments_lexer": "ipython3",
   "version": "3.10.11"
  }
 },
 "nbformat": 4,
 "nbformat_minor": 4
}
