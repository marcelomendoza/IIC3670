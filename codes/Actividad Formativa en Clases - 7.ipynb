{
 "cells": [
  {
   "cell_type": "markdown",
   "metadata": {},
   "source": [
    "# IIC-3670 NLP UC"
   ]
  },
  {
   "cell_type": "markdown",
   "metadata": {},
   "source": [
    "- Versiones de librerías, python 3.8.10\n",
    "\n",
    "- numpy 1.20.3\n",
    "- flair 0.12\n",
    "- allennlp 0.9.0"
   ]
  },
  {
   "cell_type": "markdown",
   "metadata": {},
   "source": [
    "## Actividad en clase\n",
    "\n",
    "Vamos a entrenar con el **transformer seq2seq** que vimos en clases. Siga la definición de la arquitectura del transformer haciendo lo siguiente:\n",
    "\n",
    "- Usando los mismos hiperparámetros de clases, entrene a 50 epochs y mida validation loss. Este modelo se llama transformer large.\n",
    "- Sobre los mismos datos anteriores, disminuya el número de layers a 4, reinicialize el optimizer, entrene a 50 epochs y mida validation loss. Este modelo se llama transformer base.\n",
    "- Usando los mismos hiperparámetros de clases, aumente max_seq_length al doble, reinicialize el optimzer, entrene a 50 epochs y mida validation loss. Observe que debe generar las secuencias de nuevo. Este modelo se llama transformer memory.\n",
    "- Compare transformer base con transformer large. ¿Qué ocurre cuando aumentamos el número de layers?\n",
    "- Compare transformer base con transformer memory. ¿Qué ocurre cuando aumentamos el largo de la entrada?\n",
    "- Cuanto termine, me avisa para entregarle una **L (logrado)**.\n",
    "- Recuerde que las L otorgan un bono en la nota final de la asignatura.\n",
    "\n",
    "\n",
    "***Tiene hasta el final de la clase.***"
   ]
  },
  {
   "cell_type": "code",
   "execution_count": 1,
   "metadata": {},
   "outputs": [],
   "source": [
    "import torch\n",
    "import torch.nn as nn\n",
    "import torch.optim as optim\n",
    "import torch.utils.data as data\n",
    "import math\n",
    "import copy"
   ]
  },
  {
   "cell_type": "code",
   "execution_count": 2,
   "metadata": {},
   "outputs": [],
   "source": [
    "class MultiHeadAttention(nn.Module):\n",
    "    def __init__(self, d_model, num_heads):\n",
    "        super(MultiHeadAttention, self).__init__()\n",
    "        # Ensure that the model dimension (d_model) is divisible by the number of heads\n",
    "        assert d_model % num_heads == 0, \"d_model must be divisible by num_heads\"\n",
    "        \n",
    "        # Initialize dimensions\n",
    "        self.d_model = d_model # Model's dimension\n",
    "        self.num_heads = num_heads # Number of attention heads\n",
    "        self.d_k = d_model // num_heads # Dimension of each head's key, query, and value\n",
    "        \n",
    "        # Linear layers for transforming inputs\n",
    "        self.W_q = nn.Linear(d_model, d_model) # Query transformation\n",
    "        self.W_k = nn.Linear(d_model, d_model) # Key transformation\n",
    "        self.W_v = nn.Linear(d_model, d_model) # Value transformation\n",
    "        self.W_o = nn.Linear(d_model, d_model) # Output transformation\n",
    "        \n",
    "    def scaled_dot_product_attention(self, Q, K, V, mask=None):\n",
    "        # Calculate attention scores\n",
    "        attn_scores = torch.matmul(Q, K.transpose(-2, -1)) / math.sqrt(self.d_k)\n",
    "        \n",
    "        # Apply mask if provided (useful for preventing attention to certain parts like padding)\n",
    "        if mask is not None:\n",
    "            attn_scores = attn_scores.masked_fill(mask == 0, -1e9)\n",
    "        \n",
    "        # Softmax is applied to obtain attention probabilities\n",
    "        attn_probs = torch.softmax(attn_scores, dim=-1)\n",
    "        \n",
    "        # Multiply by values to obtain the final output\n",
    "        output = torch.matmul(attn_probs, V)\n",
    "        return output\n",
    "        \n",
    "    def split_heads(self, x):\n",
    "        # Reshape the input to have num_heads for multi-head attention\n",
    "        batch_size, seq_length, d_model = x.size()\n",
    "        return x.view(batch_size, seq_length, self.num_heads, self.d_k).transpose(1, 2)\n",
    "        \n",
    "    def combine_heads(self, x):\n",
    "        # Combine the multiple heads back to original shape\n",
    "        batch_size, _, seq_length, d_k = x.size()\n",
    "        return x.transpose(1, 2).contiguous().view(batch_size, seq_length, self.d_model)\n",
    "        \n",
    "    def forward(self, Q, K, V, mask=None):\n",
    "        # Apply linear transformations and split heads\n",
    "        Q = self.split_heads(self.W_q(Q))\n",
    "        K = self.split_heads(self.W_k(K))\n",
    "        V = self.split_heads(self.W_v(V))\n",
    "        \n",
    "        # Perform scaled dot-product attention\n",
    "        attn_output = self.scaled_dot_product_attention(Q, K, V, mask)\n",
    "        \n",
    "        # Combine heads and apply output transformation\n",
    "        output = self.W_o(self.combine_heads(attn_output))\n",
    "        return output"
   ]
  },
  {
   "cell_type": "code",
   "execution_count": 3,
   "metadata": {},
   "outputs": [],
   "source": [
    "class PositionWiseFeedForward(nn.Module):\n",
    "    def __init__(self, d_model, d_ff):\n",
    "        super(PositionWiseFeedForward, self).__init__()\n",
    "        self.fc1 = nn.Linear(d_model, d_ff)\n",
    "        self.fc2 = nn.Linear(d_ff, d_model)\n",
    "        self.relu = nn.ReLU()\n",
    "\n",
    "    def forward(self, x):\n",
    "        return self.fc2(self.relu(self.fc1(x)))"
   ]
  },
  {
   "cell_type": "code",
   "execution_count": 4,
   "metadata": {},
   "outputs": [],
   "source": [
    "class PositionalEncoding(nn.Module):\n",
    "    def __init__(self, d_model, max_seq_length):\n",
    "        super(PositionalEncoding, self).__init__()\n",
    "        \n",
    "        pe = torch.zeros(max_seq_length, d_model)\n",
    "        position = torch.arange(0, max_seq_length, dtype=torch.float).unsqueeze(1)\n",
    "        div_term = torch.exp(torch.arange(0, d_model, 2).float() * -(math.log(10000.0) / d_model))\n",
    "        \n",
    "        pe[:, 0::2] = torch.sin(position * div_term)\n",
    "        pe[:, 1::2] = torch.cos(position * div_term)\n",
    "        \n",
    "        self.register_buffer('pe', pe.unsqueeze(0))\n",
    "        \n",
    "    def forward(self, x):\n",
    "        return x + self.pe[:, :x.size(1)]"
   ]
  },
  {
   "cell_type": "code",
   "execution_count": 5,
   "metadata": {},
   "outputs": [],
   "source": [
    "class EncoderLayer(nn.Module):\n",
    "    def __init__(self, d_model, num_heads, d_ff, dropout):\n",
    "        super(EncoderLayer, self).__init__()\n",
    "        self.self_attn = MultiHeadAttention(d_model, num_heads)\n",
    "        self.feed_forward = PositionWiseFeedForward(d_model, d_ff)\n",
    "        self.norm1 = nn.LayerNorm(d_model)\n",
    "        self.norm2 = nn.LayerNorm(d_model)\n",
    "        self.dropout = nn.Dropout(dropout)\n",
    "        \n",
    "    def forward(self, x, mask):\n",
    "        attn_output = self.self_attn(x, x, x, mask)\n",
    "        x = self.norm1(x + self.dropout(attn_output))\n",
    "        ff_output = self.feed_forward(x)\n",
    "        x = self.norm2(x + self.dropout(ff_output))\n",
    "        return x"
   ]
  },
  {
   "cell_type": "code",
   "execution_count": 6,
   "metadata": {},
   "outputs": [],
   "source": [
    "class DecoderLayer(nn.Module):\n",
    "    def __init__(self, d_model, num_heads, d_ff, dropout):\n",
    "        super(DecoderLayer, self).__init__()\n",
    "        self.self_attn = MultiHeadAttention(d_model, num_heads)\n",
    "        self.cross_attn = MultiHeadAttention(d_model, num_heads)\n",
    "        self.feed_forward = PositionWiseFeedForward(d_model, d_ff)\n",
    "        self.norm1 = nn.LayerNorm(d_model)\n",
    "        self.norm2 = nn.LayerNorm(d_model)\n",
    "        self.norm3 = nn.LayerNorm(d_model)\n",
    "        self.dropout = nn.Dropout(dropout)\n",
    "        \n",
    "    def forward(self, x, enc_output, src_mask, tgt_mask):\n",
    "        attn_output = self.self_attn(x, x, x, tgt_mask)\n",
    "        x = self.norm1(x + self.dropout(attn_output))\n",
    "        attn_output = self.cross_attn(x, enc_output, enc_output, src_mask)\n",
    "        x = self.norm2(x + self.dropout(attn_output))\n",
    "        ff_output = self.feed_forward(x)\n",
    "        x = self.norm3(x + self.dropout(ff_output))\n",
    "        return x"
   ]
  },
  {
   "cell_type": "code",
   "execution_count": 7,
   "metadata": {},
   "outputs": [],
   "source": [
    "class Transformer(nn.Module):\n",
    "    def __init__(self, src_vocab_size, tgt_vocab_size, d_model, num_heads, num_layers, d_ff, max_seq_length, dropout):\n",
    "        super(Transformer, self).__init__()\n",
    "        self.encoder_embedding = nn.Embedding(src_vocab_size, d_model)\n",
    "        self.decoder_embedding = nn.Embedding(tgt_vocab_size, d_model)\n",
    "        self.positional_encoding = PositionalEncoding(d_model, max_seq_length)\n",
    "\n",
    "        self.encoder_layers = nn.ModuleList([EncoderLayer(d_model, num_heads, d_ff, dropout) for _ in range(num_layers)])\n",
    "        self.decoder_layers = nn.ModuleList([DecoderLayer(d_model, num_heads, d_ff, dropout) for _ in range(num_layers)])\n",
    "\n",
    "        self.fc = nn.Linear(d_model, tgt_vocab_size)\n",
    "        self.dropout = nn.Dropout(dropout)\n",
    "\n",
    "    def generate_mask(self, src, tgt):\n",
    "        src_mask = (src != 0).unsqueeze(1).unsqueeze(2)\n",
    "        tgt_mask = (tgt != 0).unsqueeze(1).unsqueeze(3)\n",
    "        seq_length = tgt.size(1)\n",
    "        nopeak_mask = (1 - torch.triu(torch.ones(1, seq_length, seq_length), diagonal=1)).bool()\n",
    "        tgt_mask = tgt_mask & nopeak_mask\n",
    "        return src_mask, tgt_mask\n",
    "\n",
    "    def forward(self, src, tgt):\n",
    "        src_mask, tgt_mask = self.generate_mask(src, tgt)\n",
    "        src_embedded = self.dropout(self.positional_encoding(self.encoder_embedding(src)))\n",
    "        tgt_embedded = self.dropout(self.positional_encoding(self.decoder_embedding(tgt)))\n",
    "\n",
    "        enc_output = src_embedded\n",
    "        for enc_layer in self.encoder_layers:\n",
    "            enc_output = enc_layer(enc_output, src_mask)\n",
    "\n",
    "        dec_output = tgt_embedded\n",
    "        for dec_layer in self.decoder_layers:\n",
    "            dec_output = dec_layer(dec_output, enc_output, src_mask, tgt_mask)\n",
    "\n",
    "        output = self.fc(dec_output)\n",
    "        return output"
   ]
  },
  {
   "cell_type": "code",
   "execution_count": 8,
   "metadata": {},
   "outputs": [],
   "source": [
    "src_vocab_size = 5000\n",
    "tgt_vocab_size = 5000\n",
    "d_model = 512\n",
    "num_heads = 8\n",
    "num_layers = 6\n",
    "d_ff = 2048\n",
    "max_seq_length = 100\n",
    "dropout = 0.1\n",
    "\n",
    "transformer = Transformer(src_vocab_size, tgt_vocab_size, d_model, num_heads, num_layers, d_ff, max_seq_length, dropout)\n",
    "\n",
    "# Generate random sample data\n",
    "src_data = torch.randint(1, src_vocab_size, (64, max_seq_length))  # (batch_size, seq_length)\n",
    "tgt_data = torch.randint(1, tgt_vocab_size, (64, max_seq_length))  # (batch_size, seq_length)"
   ]
  },
  {
   "cell_type": "code",
   "execution_count": 10,
   "metadata": {
    "scrolled": true
   },
   "outputs": [
    {
     "name": "stdout",
     "output_type": "stream",
     "text": [
      "Epoch: 1, Loss: 8.690889358520508\n",
      "Epoch: 2, Loss: 8.556205749511719\n",
      "Epoch: 3, Loss: 8.482999801635742\n",
      "Epoch: 4, Loss: 8.42567253112793\n",
      "Epoch: 5, Loss: 8.360939979553223\n",
      "Epoch: 6, Loss: 8.300979614257812\n",
      "Epoch: 7, Loss: 8.223347663879395\n",
      "Epoch: 8, Loss: 8.134797096252441\n",
      "Epoch: 9, Loss: 8.05554485321045\n",
      "Epoch: 10, Loss: 7.973031044006348\n",
      "Epoch: 11, Loss: 7.889521598815918\n",
      "Epoch: 12, Loss: 7.808218955993652\n",
      "Epoch: 13, Loss: 7.728190898895264\n",
      "Epoch: 14, Loss: 7.6423211097717285\n",
      "Epoch: 15, Loss: 7.564476013183594\n",
      "Epoch: 16, Loss: 7.4857497215271\n",
      "Epoch: 17, Loss: 7.400502681732178\n",
      "Epoch: 18, Loss: 7.313865661621094\n",
      "Epoch: 19, Loss: 7.234110355377197\n",
      "Epoch: 20, Loss: 7.156230449676514\n",
      "Epoch: 21, Loss: 7.0781474113464355\n",
      "Epoch: 22, Loss: 6.989865779876709\n",
      "Epoch: 23, Loss: 6.9126296043396\n",
      "Epoch: 24, Loss: 6.837189197540283\n",
      "Epoch: 25, Loss: 6.765042781829834\n",
      "Epoch: 26, Loss: 6.683589458465576\n",
      "Epoch: 27, Loss: 6.613943576812744\n",
      "Epoch: 28, Loss: 6.550961971282959\n",
      "Epoch: 29, Loss: 6.475266456604004\n",
      "Epoch: 30, Loss: 6.410951614379883\n",
      "Epoch: 31, Loss: 6.342072010040283\n",
      "Epoch: 32, Loss: 6.263576507568359\n",
      "Epoch: 33, Loss: 6.2040324211120605\n",
      "Epoch: 34, Loss: 6.130402088165283\n",
      "Epoch: 35, Loss: 6.065173625946045\n",
      "Epoch: 36, Loss: 5.992793083190918\n",
      "Epoch: 37, Loss: 5.925359725952148\n",
      "Epoch: 38, Loss: 5.864734172821045\n",
      "Epoch: 39, Loss: 5.805147647857666\n",
      "Epoch: 40, Loss: 5.749217510223389\n",
      "Epoch: 41, Loss: 5.684197425842285\n",
      "Epoch: 42, Loss: 5.6148362159729\n",
      "Epoch: 43, Loss: 5.559648513793945\n",
      "Epoch: 44, Loss: 5.500845432281494\n",
      "Epoch: 45, Loss: 5.437421798706055\n",
      "Epoch: 46, Loss: 5.375555038452148\n",
      "Epoch: 47, Loss: 5.313548564910889\n",
      "Epoch: 48, Loss: 5.262674331665039\n",
      "Epoch: 49, Loss: 5.201817512512207\n",
      "Epoch: 50, Loss: 5.14279842376709\n"
     ]
    }
   ],
   "source": [
    "criterion = nn.CrossEntropyLoss(ignore_index=0)\n",
    "optimizer = optim.Adam(transformer.parameters(), lr=0.0001, betas=(0.9, 0.98), eps=1e-9)\n",
    "\n",
    "transformer.train()\n",
    "\n",
    "for epoch in range(50):\n",
    "    optimizer.zero_grad()\n",
    "    output = transformer(src_data, tgt_data[:, :-1])\n",
    "    loss = criterion(output.contiguous().view(-1, tgt_vocab_size), tgt_data[:, 1:].contiguous().view(-1))\n",
    "    loss.backward()\n",
    "    optimizer.step()\n",
    "    print(f\"Epoch: {epoch+1}, Loss: {loss.item()}\")"
   ]
  },
  {
   "cell_type": "code",
   "execution_count": 11,
   "metadata": {},
   "outputs": [
    {
     "name": "stdout",
     "output_type": "stream",
     "text": [
      "Validation Loss: 8.731040000915527\n"
     ]
    }
   ],
   "source": [
    "transformer.eval()\n",
    "\n",
    "# Generate random sample validation data\n",
    "val_src_data = torch.randint(1, src_vocab_size, (64, max_seq_length))  # (batch_size, seq_length)\n",
    "val_tgt_data = torch.randint(1, tgt_vocab_size, (64, max_seq_length))  # (batch_size, seq_length)\n",
    "\n",
    "with torch.no_grad():\n",
    "\n",
    "    val_output = transformer(val_src_data, val_tgt_data[:, :-1])\n",
    "    val_loss = criterion(val_output.contiguous().view(-1, tgt_vocab_size), val_tgt_data[:, 1:].contiguous().view(-1))\n",
    "    print(f\"Validation Loss: {val_loss.item()}\")"
   ]
  },
  {
   "cell_type": "code",
   "execution_count": 16,
   "metadata": {},
   "outputs": [],
   "source": [
    "num_layers = 4\n",
    "\n",
    "transformer = Transformer(src_vocab_size, tgt_vocab_size, d_model, num_heads, num_layers, d_ff, max_seq_length, dropout)"
   ]
  },
  {
   "cell_type": "code",
   "execution_count": 17,
   "metadata": {
    "scrolled": true
   },
   "outputs": [
    {
     "name": "stdout",
     "output_type": "stream",
     "text": [
      "Epoch: 1, Loss: 8.69483757019043\n",
      "Epoch: 2, Loss: 8.587047576904297\n",
      "Epoch: 3, Loss: 8.509394645690918\n",
      "Epoch: 4, Loss: 8.452327728271484\n",
      "Epoch: 5, Loss: 8.398691177368164\n",
      "Epoch: 6, Loss: 8.347383499145508\n",
      "Epoch: 7, Loss: 8.290900230407715\n",
      "Epoch: 8, Loss: 8.22274398803711\n",
      "Epoch: 9, Loss: 8.157305717468262\n",
      "Epoch: 10, Loss: 8.086456298828125\n",
      "Epoch: 11, Loss: 8.01663875579834\n",
      "Epoch: 12, Loss: 7.955038547515869\n",
      "Epoch: 13, Loss: 7.882924556732178\n",
      "Epoch: 14, Loss: 7.81955099105835\n",
      "Epoch: 15, Loss: 7.75192928314209\n",
      "Epoch: 16, Loss: 7.679123878479004\n",
      "Epoch: 17, Loss: 7.608169078826904\n",
      "Epoch: 18, Loss: 7.546481132507324\n",
      "Epoch: 19, Loss: 7.467465400695801\n",
      "Epoch: 20, Loss: 7.398152828216553\n",
      "Epoch: 21, Loss: 7.329608917236328\n",
      "Epoch: 22, Loss: 7.2537922859191895\n",
      "Epoch: 23, Loss: 7.1818766593933105\n",
      "Epoch: 24, Loss: 7.111588954925537\n",
      "Epoch: 25, Loss: 7.0398430824279785\n",
      "Epoch: 26, Loss: 6.965572357177734\n",
      "Epoch: 27, Loss: 6.898441791534424\n",
      "Epoch: 28, Loss: 6.829673767089844\n",
      "Epoch: 29, Loss: 6.755025386810303\n",
      "Epoch: 30, Loss: 6.682347774505615\n",
      "Epoch: 31, Loss: 6.614811420440674\n",
      "Epoch: 32, Loss: 6.548038482666016\n",
      "Epoch: 33, Loss: 6.479395389556885\n",
      "Epoch: 34, Loss: 6.412586688995361\n",
      "Epoch: 35, Loss: 6.346829414367676\n",
      "Epoch: 36, Loss: 6.279829025268555\n",
      "Epoch: 37, Loss: 6.220696449279785\n",
      "Epoch: 38, Loss: 6.149734020233154\n",
      "Epoch: 39, Loss: 6.08662223815918\n",
      "Epoch: 40, Loss: 6.0256805419921875\n",
      "Epoch: 41, Loss: 5.963250637054443\n",
      "Epoch: 42, Loss: 5.897889614105225\n",
      "Epoch: 43, Loss: 5.839491844177246\n",
      "Epoch: 44, Loss: 5.7798542976379395\n",
      "Epoch: 45, Loss: 5.717597961425781\n",
      "Epoch: 46, Loss: 5.665792465209961\n",
      "Epoch: 47, Loss: 5.601870059967041\n",
      "Epoch: 48, Loss: 5.547255516052246\n",
      "Epoch: 49, Loss: 5.4865593910217285\n",
      "Epoch: 50, Loss: 5.434197425842285\n"
     ]
    }
   ],
   "source": [
    "criterion = nn.CrossEntropyLoss(ignore_index=0)\n",
    "optimizer = optim.Adam(transformer.parameters(), lr=0.0001, betas=(0.9, 0.98), eps=1e-9)\n",
    "\n",
    "transformer.train()\n",
    "\n",
    "for epoch in range(50):\n",
    "    optimizer.zero_grad()\n",
    "    output = transformer(src_data, tgt_data[:, :-1])\n",
    "    loss = criterion(output.contiguous().view(-1, tgt_vocab_size), tgt_data[:, 1:].contiguous().view(-1))\n",
    "    loss.backward()\n",
    "    optimizer.step()\n",
    "    print(f\"Epoch: {epoch+1}, Loss: {loss.item()}\")"
   ]
  },
  {
   "cell_type": "code",
   "execution_count": 18,
   "metadata": {},
   "outputs": [
    {
     "name": "stdout",
     "output_type": "stream",
     "text": [
      "Validation Loss: 8.746835708618164\n"
     ]
    }
   ],
   "source": [
    "transformer.eval()\n",
    "\n",
    "with torch.no_grad():\n",
    "\n",
    "    val_output = transformer(val_src_data, val_tgt_data[:, :-1])\n",
    "    val_loss = criterion(val_output.contiguous().view(-1, tgt_vocab_size), val_tgt_data[:, 1:].contiguous().view(-1))\n",
    "    print(f\"Validation Loss: {val_loss.item()}\")"
   ]
  },
  {
   "cell_type": "code",
   "execution_count": 19,
   "metadata": {},
   "outputs": [],
   "source": [
    "num_layers = 6\n",
    "max_seq_length = 200\n",
    "\n",
    "# Generate random sample data\n",
    "src_data = torch.randint(1, src_vocab_size, (64, max_seq_length))  # (batch_size, seq_length)\n",
    "tgt_data = torch.randint(1, tgt_vocab_size, (64, max_seq_length))  # (batch_size, seq_length)\n",
    "\n",
    "transformer = Transformer(src_vocab_size, tgt_vocab_size, d_model, num_heads, num_layers, d_ff, max_seq_length, dropout)"
   ]
  },
  {
   "cell_type": "code",
   "execution_count": 20,
   "metadata": {
    "scrolled": true
   },
   "outputs": [
    {
     "name": "stdout",
     "output_type": "stream",
     "text": [
      "Epoch: 1, Loss: 8.68437671661377\n",
      "Epoch: 2, Loss: 8.585718154907227\n",
      "Epoch: 3, Loss: 8.536176681518555\n",
      "Epoch: 4, Loss: 8.500722885131836\n",
      "Epoch: 5, Loss: 8.462150573730469\n",
      "Epoch: 6, Loss: 8.41718864440918\n",
      "Epoch: 7, Loss: 8.367278099060059\n",
      "Epoch: 8, Loss: 8.31430435180664\n",
      "Epoch: 9, Loss: 8.259011268615723\n",
      "Epoch: 10, Loss: 8.206537246704102\n",
      "Epoch: 11, Loss: 8.156159400939941\n",
      "Epoch: 12, Loss: 8.101131439208984\n",
      "Epoch: 13, Loss: 8.040860176086426\n",
      "Epoch: 14, Loss: 7.992099285125732\n",
      "Epoch: 15, Loss: 7.937398910522461\n",
      "Epoch: 16, Loss: 7.873149871826172\n",
      "Epoch: 17, Loss: 7.816011905670166\n",
      "Epoch: 18, Loss: 7.763660430908203\n",
      "Epoch: 19, Loss: 7.704605579376221\n",
      "Epoch: 20, Loss: 7.649529457092285\n",
      "Epoch: 21, Loss: 7.593634605407715\n",
      "Epoch: 22, Loss: 7.533790111541748\n",
      "Epoch: 23, Loss: 7.474223613739014\n",
      "Epoch: 24, Loss: 7.41947603225708\n",
      "Epoch: 25, Loss: 7.364382743835449\n",
      "Epoch: 26, Loss: 7.3106608390808105\n",
      "Epoch: 27, Loss: 7.257026672363281\n",
      "Epoch: 28, Loss: 7.200265884399414\n",
      "Epoch: 29, Loss: 7.149412631988525\n",
      "Epoch: 30, Loss: 7.099493503570557\n",
      "Epoch: 31, Loss: 7.044135570526123\n",
      "Epoch: 32, Loss: 6.9919753074646\n",
      "Epoch: 33, Loss: 6.941361427307129\n",
      "Epoch: 34, Loss: 6.89055871963501\n",
      "Epoch: 35, Loss: 6.8426947593688965\n",
      "Epoch: 36, Loss: 6.795078277587891\n",
      "Epoch: 37, Loss: 6.759692192077637\n",
      "Epoch: 38, Loss: 6.708451747894287\n",
      "Epoch: 39, Loss: 6.6612935066223145\n",
      "Epoch: 40, Loss: 6.620931625366211\n",
      "Epoch: 41, Loss: 6.56418514251709\n",
      "Epoch: 42, Loss: 6.523271083831787\n",
      "Epoch: 43, Loss: 6.480235576629639\n",
      "Epoch: 44, Loss: 6.4307942390441895\n",
      "Epoch: 45, Loss: 6.385783672332764\n",
      "Epoch: 46, Loss: 6.343839168548584\n",
      "Epoch: 47, Loss: 6.301205635070801\n",
      "Epoch: 48, Loss: 6.257139682769775\n",
      "Epoch: 49, Loss: 6.213289260864258\n",
      "Epoch: 50, Loss: 6.171632766723633\n"
     ]
    }
   ],
   "source": [
    "criterion = nn.CrossEntropyLoss(ignore_index=0)\n",
    "optimizer = optim.Adam(transformer.parameters(), lr=0.0001, betas=(0.9, 0.98), eps=1e-9)\n",
    "\n",
    "transformer.train()\n",
    "\n",
    "for epoch in range(50):\n",
    "    optimizer.zero_grad()\n",
    "    output = transformer(src_data, tgt_data[:, :-1])\n",
    "    loss = criterion(output.contiguous().view(-1, tgt_vocab_size), tgt_data[:, 1:].contiguous().view(-1))\n",
    "    loss.backward()\n",
    "    optimizer.step()\n",
    "    print(f\"Epoch: {epoch+1}, Loss: {loss.item()}\")"
   ]
  },
  {
   "cell_type": "code",
   "execution_count": 21,
   "metadata": {},
   "outputs": [
    {
     "name": "stdout",
     "output_type": "stream",
     "text": [
      "Validation Loss: 8.715140342712402\n"
     ]
    }
   ],
   "source": [
    "transformer.eval()\n",
    "\n",
    "# Generate random sample validation data\n",
    "val_src_data = torch.randint(1, src_vocab_size, (64, max_seq_length))  # (batch_size, seq_length)\n",
    "val_tgt_data = torch.randint(1, tgt_vocab_size, (64, max_seq_length))  # (batch_size, seq_length)\n",
    "\n",
    "with torch.no_grad():\n",
    "\n",
    "    val_output = transformer(val_src_data, val_tgt_data[:, :-1])\n",
    "    val_loss = criterion(val_output.contiguous().view(-1, tgt_vocab_size), val_tgt_data[:, 1:].contiguous().view(-1))\n",
    "    print(f\"Validation Loss: {val_loss.item()}\")"
   ]
  },
  {
   "cell_type": "code",
   "execution_count": null,
   "metadata": {},
   "outputs": [],
   "source": []
  }
 ],
 "metadata": {
  "kernelspec": {
   "display_name": "Python 3 (ipykernel)",
   "language": "python",
   "name": "python3"
  },
  "language_info": {
   "codemirror_mode": {
    "name": "ipython",
    "version": 3
   },
   "file_extension": ".py",
   "mimetype": "text/x-python",
   "name": "python",
   "nbconvert_exporter": "python",
   "pygments_lexer": "ipython3",
   "version": "3.10.11"
  }
 },
 "nbformat": 4,
 "nbformat_minor": 4
}
