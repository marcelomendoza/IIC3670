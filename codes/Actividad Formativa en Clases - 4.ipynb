{
 "cells": [
  {
   "cell_type": "markdown",
   "metadata": {},
   "source": [
    "# IIC-3670 NLP UC"
   ]
  },
  {
   "cell_type": "markdown",
   "metadata": {},
   "source": [
    "- Versiones de librerías, python 3.8.10\n",
    "\n",
    "- numpy 1.20.3\n",
    "- nltk 3.7\n",
    "- gensim 4.1.2\n",
    "- keras 2.9.0\n",
    "- tensorflow 2.9.1"
   ]
  },
  {
   "cell_type": "markdown",
   "metadata": {},
   "source": [
    "## Actividad en clase\n",
    "\n",
    "Construya clasificadores de documentos sobre el dataset **20Newsgroups**. Para esto haga lo siguiente:\n",
    "\n",
    "- Limpie el texto del dataset.\n",
    "- Cargue los vectores de FastText.\n",
    "- Construya las pad_sequences en base a max_tokens = 40.\n",
    "- Cree la matriz de embeddings usando el modelo preentrenado de FastText. \n",
    "- Use la misma arquitectura vista en clases y entrene.\n",
    "- Evalúe en base a classification report. \n",
    "- Cargue los vectores de word2vec Google news. \n",
    "- Cree la matriz de embeddings usando el modelo preentrenado de Word2vec. \n",
    "- Use la misma arquitectura vista en clases y entrene.\n",
    "- Evalúe en base a classification report.\n",
    "- Interprete los resultados.\n",
    "- Cuanto termine, me avisa para entregarle una **L (logrado)**.\n",
    "- Recuerde que las L otorgan un bono en la nota final de la asignatura.\n",
    "\n",
    "\n",
    "***Tiene hasta el final de la clase.***\n",
    "\n",
    "Vea la descripción del dataset en: https://www.kaggle.com/datasets/crawford/20-newsgroups\n"
   ]
  },
  {
   "cell_type": "code",
   "execution_count": 1,
   "metadata": {},
   "outputs": [
    {
     "name": "stdout",
     "output_type": "stream",
     "text": [
      "['fasttext-wiki-news-subwords-300', 'conceptnet-numberbatch-17-06-300', 'word2vec-ruscorpora-300', 'word2vec-google-news-300', 'glove-wiki-gigaword-50', 'glove-wiki-gigaword-100', 'glove-wiki-gigaword-200', 'glove-wiki-gigaword-300', 'glove-twitter-25', 'glove-twitter-50', 'glove-twitter-100', 'glove-twitter-200', '__testing_word2vec-matrix-synopsis']\n"
     ]
    }
   ],
   "source": [
    "import gensim.downloader\n",
    "\n",
    "print(list(gensim.downloader.info()['models'].keys()))"
   ]
  },
  {
   "cell_type": "code",
   "execution_count": 2,
   "metadata": {},
   "outputs": [],
   "source": [
    "ft_300 = gensim.downloader.load('fasttext-wiki-news-subwords-300')"
   ]
  },
  {
   "cell_type": "code",
   "execution_count": 3,
   "metadata": {},
   "outputs": [],
   "source": [
    "import numpy as np\n",
    "\n",
    "vectors_ft = np.asarray(ft_300.vectors)\n",
    "labels_ft = np.asarray(ft_300.index_to_key)"
   ]
  },
  {
   "cell_type": "code",
   "execution_count": 4,
   "metadata": {},
   "outputs": [],
   "source": [
    "import tensorflow\n",
    "from tensorflow import keras\n",
    "from sklearn.datasets import fetch_20newsgroups\n",
    "\n",
    "X_train_text, Y_train = fetch_20newsgroups(subset=\"train\", remove=('headers', 'footers', 'quotes'), return_X_y=True)\n",
    "X_test_text, Y_test  = fetch_20newsgroups(subset=\"test\", remove=('headers', 'footers', 'quotes'), return_X_y=True)"
   ]
  },
  {
   "cell_type": "code",
   "execution_count": 5,
   "metadata": {},
   "outputs": [],
   "source": [
    "from nltk.corpus import stopwords\n",
    "from nltk.tokenize import RegexpTokenizer, sent_tokenize\n",
    "from nltk.stem import WordNetLemmatizer\n",
    "\n",
    "classes = np.unique(Y_train)\n",
    "\n",
    "# Load stop-words\n",
    "stop_words = set(stopwords.words('english'))\n",
    "\n",
    "# Initialize tokenizer\n",
    "# It's also possible to try with a stemmer or to mix a stemmer and a lemmatizer\n",
    "tokenizer = RegexpTokenizer('[\\'a-zA-Z]+')\n",
    "\n",
    "# Initialize lemmatizer\n",
    "lemmatizer = WordNetLemmatizer()\n",
    "\n",
    "def tokenize(document):\n",
    "    words = []\n",
    "\n",
    "    for sentence in sent_tokenize(document):\n",
    "        tokens = [lemmatizer.lemmatize(t.lower()) for t in tokenizer.tokenize(sentence) if t.lower() not in stop_words and len(t) > 2]\n",
    "        words += tokens\n",
    "\n",
    "    text = ' '.join(words)\n",
    "    return text"
   ]
  },
  {
   "cell_type": "code",
   "execution_count": 6,
   "metadata": {},
   "outputs": [],
   "source": [
    "train_docs = []\n",
    "test_docs = []\n",
    "\n",
    "for raw_text in X_train_text:\n",
    "    text = tokenize(raw_text)\n",
    "    train_docs.append(text)\n",
    "    \n",
    "for raw_text in X_test_text:\n",
    "    text = tokenize(raw_text)\n",
    "    test_docs.append(text)\n",
    "    "
   ]
  },
  {
   "cell_type": "code",
   "execution_count": 7,
   "metadata": {},
   "outputs": [
    {
     "data": {
      "text/plain": [
       "((11314, 40), (7532, 40))"
      ]
     },
     "execution_count": 7,
     "metadata": {},
     "output_type": "execute_result"
    }
   ],
   "source": [
    "from keras.preprocessing.text import Tokenizer\n",
    "from keras_preprocessing.sequence import pad_sequences\n",
    "\n",
    "max_tokens = 40 ## Hyperparameter, input length\n",
    "\n",
    "tokenizer = Tokenizer()\n",
    "tokenizer.fit_on_texts(train_docs)\n",
    "\n",
    "## Vectorizing data to keep 40 words per sample.\n",
    "X_train_vect = pad_sequences(tokenizer.texts_to_sequences(train_docs), maxlen=max_tokens, padding=\"post\", truncating=\"post\", value=0.)\n",
    "X_test_vect  = pad_sequences(tokenizer.texts_to_sequences(test_docs), maxlen=max_tokens, padding=\"post\", truncating=\"post\", value=0.)\n",
    "\n",
    "\n",
    "X_train_vect.shape, X_test_vect.shape"
   ]
  },
  {
   "cell_type": "code",
   "execution_count": 8,
   "metadata": {},
   "outputs": [],
   "source": [
    "# Create a dictionary mapping words to their indices in labels_ft\n",
    "word_to_index = {word: idx for idx, word in enumerate(labels_ft)}\n",
    "\n",
    "# Initialize the embeddings matrix\n",
    "embed_len = 300\n",
    "ft_embeddings = np.zeros((len(tokenizer.index_word)+1, embed_len))\n",
    "\n",
    "# Iterate over the words in the tokenizer\n",
    "for idx, word in tokenizer.index_word.items():\n",
    "    # Check if the word exists in the FastText model's vocabulary\n",
    "    if word in word_to_index:\n",
    "        # Get the index of the word in labels_ft\n",
    "        ft_idx = word_to_index[word]\n",
    "        # Copy the corresponding embedding to ft_embeddings\n",
    "        ft_embeddings[idx] = vectors_ft[ft_idx]"
   ]
  },
  {
   "cell_type": "code",
   "execution_count": 9,
   "metadata": {},
   "outputs": [
    {
     "name": "stdout",
     "output_type": "stream",
     "text": [
      "Model: \"model\"\n",
      "_________________________________________________________________\n",
      " Layer (type)                Output Shape              Param #   \n",
      "=================================================================\n",
      " input_1 (InputLayer)        [(None, 40)]              0         \n",
      "                                                                 \n",
      " embedding (Embedding)       (None, 40, 300)           21688500  \n",
      "                                                                 \n",
      " tf.math.reduce_mean (TFOpLa  (None, 300)              0         \n",
      " mbda)                                                           \n",
      "                                                                 \n",
      " dense (Dense)               (None, 128)               38528     \n",
      "                                                                 \n",
      " dense_1 (Dense)             (None, 64)                8256      \n",
      "                                                                 \n",
      " dense_2 (Dense)             (None, 20)                1300      \n",
      "                                                                 \n",
      "=================================================================\n",
      "Total params: 21,736,584\n",
      "Trainable params: 48,084\n",
      "Non-trainable params: 21,688,500\n",
      "_________________________________________________________________\n"
     ]
    }
   ],
   "source": [
    "from keras.models import Model\n",
    "from keras.layers import Dense, Embedding, Input\n",
    "\n",
    "inputs = Input(shape=(max_tokens, ))\n",
    "embeddings_layer = Embedding(input_dim=len(tokenizer.index_word)+1, output_dim=embed_len,\n",
    "                             input_length=max_tokens, trainable=False, weights=[ft_embeddings])\n",
    "dense1 = Dense(128, activation=\"relu\")\n",
    "dense2 = Dense(64, activation=\"relu\")\n",
    "dense3 = Dense(len(classes), activation=\"softmax\")\n",
    "\n",
    "x = embeddings_layer(inputs)\n",
    "x = tensorflow.reduce_mean(x, axis=1) ### Averaged embeddings of tokens of each example\n",
    "x = dense1(x)\n",
    "x = dense2(x)\n",
    "outputs = dense3(x)\n",
    "\n",
    "model = Model(inputs=inputs, outputs=outputs)\n",
    "\n",
    "model.summary()"
   ]
  },
  {
   "cell_type": "code",
   "execution_count": 10,
   "metadata": {},
   "outputs": [],
   "source": [
    "model.compile(optimizer=\"adam\", loss=\"sparse_categorical_crossentropy\", metrics=[\"accuracy\"])"
   ]
  },
  {
   "cell_type": "code",
   "execution_count": 11,
   "metadata": {},
   "outputs": [
    {
     "name": "stdout",
     "output_type": "stream",
     "text": [
      "Epoch 1/8\n",
      "354/354 [==============================] - 2s 3ms/step - loss: 2.5534 - accuracy: 0.2117\n",
      "Epoch 2/8\n",
      "354/354 [==============================] - 1s 3ms/step - loss: 1.8743 - accuracy: 0.3844\n",
      "Epoch 3/8\n",
      "354/354 [==============================] - 1s 3ms/step - loss: 1.6394 - accuracy: 0.4509\n",
      "Epoch 4/8\n",
      "354/354 [==============================] - 1s 3ms/step - loss: 1.5231 - accuracy: 0.4872\n",
      "Epoch 5/8\n",
      "354/354 [==============================] - 1s 3ms/step - loss: 1.4554 - accuracy: 0.5171\n",
      "Epoch 6/8\n",
      "354/354 [==============================] - 1s 3ms/step - loss: 1.4050 - accuracy: 0.5410\n",
      "Epoch 7/8\n",
      "354/354 [==============================] - 1s 3ms/step - loss: 1.3601 - accuracy: 0.5573\n",
      "Epoch 8/8\n",
      "354/354 [==============================] - 1s 3ms/step - loss: 1.3210 - accuracy: 0.5720\n"
     ]
    },
    {
     "data": {
      "text/plain": [
       "<keras.callbacks.History at 0x7f93707aeee0>"
      ]
     },
     "execution_count": 11,
     "metadata": {},
     "output_type": "execute_result"
    }
   ],
   "source": [
    "model.fit(X_train_vect, Y_train, batch_size=32, epochs=8)"
   ]
  },
  {
   "cell_type": "code",
   "execution_count": 12,
   "metadata": {},
   "outputs": [],
   "source": [
    "labels = ['alt.atheism',\n",
    " 'comp.graphics',\n",
    " 'comp.os.ms-windows.misc',\n",
    " 'comp.sys.ibm.pc.hardware',\n",
    " 'comp.sys.mac.hardware',\n",
    " 'comp.windows.x',\n",
    " 'misc.forsale',\n",
    " 'rec.autos',\n",
    " 'rec.motorcycles',\n",
    " 'rec.sport.baseball',\n",
    " 'rec.sport.hockey',\n",
    " 'sci.crypt',\n",
    " 'sci.electronics',\n",
    " 'sci.med',\n",
    " 'sci.space',\n",
    " 'soc.religion.christian',\n",
    " 'talk.politics.guns',\n",
    " 'talk.politics.mideast',\n",
    " 'talk.politics.misc',\n",
    " 'talk.religion.misc']"
   ]
  },
  {
   "cell_type": "code",
   "execution_count": 13,
   "metadata": {},
   "outputs": [
    {
     "name": "stdout",
     "output_type": "stream",
     "text": [
      "236/236 [==============================] - 1s 2ms/step\n",
      "Test Accuracy : 0.5331917153478491\n",
      "\n",
      "Classification Report : \n",
      "                          precision    recall  f1-score   support\n",
      "\n",
      "             alt.atheism       0.27      0.32      0.29       319\n",
      "           comp.graphics       0.58      0.56      0.57       389\n",
      " comp.os.ms-windows.misc       0.58      0.31      0.41       394\n",
      "comp.sys.ibm.pc.hardware       0.42      0.59      0.49       392\n",
      "   comp.sys.mac.hardware       0.38      0.40      0.39       385\n",
      "          comp.windows.x       0.62      0.56      0.59       395\n",
      "            misc.forsale       0.68      0.52      0.59       390\n",
      "               rec.autos       0.57      0.69      0.62       396\n",
      "         rec.motorcycles       0.71      0.46      0.56       398\n",
      "      rec.sport.baseball       0.36      0.79      0.50       397\n",
      "        rec.sport.hockey       0.83      0.62      0.71       399\n",
      "               sci.crypt       0.61      0.65      0.63       396\n",
      "         sci.electronics       0.65      0.28      0.39       393\n",
      "                 sci.med       0.65      0.78      0.71       396\n",
      "               sci.space       0.53      0.66      0.59       394\n",
      "  soc.religion.christian       0.53      0.74      0.62       398\n",
      "      talk.politics.guns       0.46      0.44      0.45       364\n",
      "   talk.politics.mideast       0.75      0.71      0.73       376\n",
      "      talk.politics.misc       0.40      0.24      0.30       310\n",
      "      talk.religion.misc       0.15      0.02      0.04       251\n",
      "\n",
      "                accuracy                           0.53      7532\n",
      "               macro avg       0.54      0.52      0.51      7532\n",
      "            weighted avg       0.55      0.53      0.52      7532\n",
      "\n"
     ]
    }
   ],
   "source": [
    "from sklearn.metrics import accuracy_score, classification_report\n",
    "\n",
    "Y_preds = model.predict(X_test_vect).argmax(axis=-1)\n",
    "\n",
    "print(\"Test Accuracy : {}\".format(accuracy_score(Y_test, Y_preds)))\n",
    "print(\"\\nClassification Report : \")\n",
    "print(classification_report(Y_test, Y_preds, target_names=labels))"
   ]
  },
  {
   "cell_type": "code",
   "execution_count": 14,
   "metadata": {},
   "outputs": [],
   "source": [
    "gv_300 = gensim.downloader.load('word2vec-google-news-300')"
   ]
  },
  {
   "cell_type": "code",
   "execution_count": 15,
   "metadata": {},
   "outputs": [],
   "source": [
    "vectors_gv = np.asarray(gv_300.vectors)\n",
    "labels_gv = np.asarray(gv_300.index_to_key)"
   ]
  },
  {
   "cell_type": "code",
   "execution_count": 16,
   "metadata": {},
   "outputs": [],
   "source": [
    "# Create a dictionary mapping words to their indices in labels_ft\n",
    "word_to_index = {word: idx for idx, word in enumerate(labels_gv)}\n",
    "\n",
    "gv_embeddings = np.zeros((len(tokenizer.index_word)+1, embed_len))\n",
    "\n",
    "# Iterate over the words in the tokenizer\n",
    "for idx, word in tokenizer.index_word.items():\n",
    "    # Check if the word exists in the FastText model's vocabulary\n",
    "    if word in word_to_index:\n",
    "        # Get the index of the word in labels_ft\n",
    "        gv_idx = word_to_index[word]\n",
    "        # Copy the corresponding embedding to ft_embeddings\n",
    "        gv_embeddings[idx] = vectors_gv[gv_idx]"
   ]
  },
  {
   "cell_type": "code",
   "execution_count": 17,
   "metadata": {},
   "outputs": [
    {
     "name": "stdout",
     "output_type": "stream",
     "text": [
      "Model: \"model_1\"\n",
      "_________________________________________________________________\n",
      " Layer (type)                Output Shape              Param #   \n",
      "=================================================================\n",
      " input_2 (InputLayer)        [(None, 40)]              0         \n",
      "                                                                 \n",
      " embedding_1 (Embedding)     (None, 40, 300)           21688500  \n",
      "                                                                 \n",
      " tf.math.reduce_mean_1 (TFOp  (None, 300)              0         \n",
      " Lambda)                                                         \n",
      "                                                                 \n",
      " dense_3 (Dense)             (None, 128)               38528     \n",
      "                                                                 \n",
      " dense_4 (Dense)             (None, 64)                8256      \n",
      "                                                                 \n",
      " dense_5 (Dense)             (None, 20)                1300      \n",
      "                                                                 \n",
      "=================================================================\n",
      "Total params: 21,736,584\n",
      "Trainable params: 48,084\n",
      "Non-trainable params: 21,688,500\n",
      "_________________________________________________________________\n"
     ]
    }
   ],
   "source": [
    "inputs = Input(shape=(max_tokens, ))\n",
    "embeddings_layer = Embedding(input_dim=len(tokenizer.index_word)+1, output_dim=embed_len,\n",
    "                             input_length=max_tokens, trainable=False, weights=[gv_embeddings])\n",
    "dense1 = Dense(128, activation=\"relu\")\n",
    "dense2 = Dense(64, activation=\"relu\")\n",
    "dense3 = Dense(len(classes), activation=\"softmax\")\n",
    "\n",
    "x = embeddings_layer(inputs)\n",
    "x = tensorflow.reduce_mean(x, axis=1) ### Averaged embeddings of tokens of each example\n",
    "x = dense1(x)\n",
    "x = dense2(x)\n",
    "outputs = dense3(x)\n",
    "\n",
    "model = Model(inputs=inputs, outputs=outputs)\n",
    "\n",
    "model.summary()"
   ]
  },
  {
   "cell_type": "code",
   "execution_count": 18,
   "metadata": {},
   "outputs": [],
   "source": [
    "model.compile(optimizer=\"adam\", loss=\"sparse_categorical_crossentropy\", metrics=[\"accuracy\"])"
   ]
  },
  {
   "cell_type": "code",
   "execution_count": 19,
   "metadata": {},
   "outputs": [
    {
     "name": "stdout",
     "output_type": "stream",
     "text": [
      "Epoch 1/8\n",
      "354/354 [==============================] - 2s 3ms/step - loss: 2.2228 - accuracy: 0.3170\n",
      "Epoch 2/8\n",
      "354/354 [==============================] - 1s 3ms/step - loss: 1.5756 - accuracy: 0.4893\n",
      "Epoch 3/8\n",
      "354/354 [==============================] - 1s 3ms/step - loss: 1.4199 - accuracy: 0.5440\n",
      "Epoch 4/8\n",
      "354/354 [==============================] - 1s 3ms/step - loss: 1.3378 - accuracy: 0.5681\n",
      "Epoch 5/8\n",
      "354/354 [==============================] - 1s 3ms/step - loss: 1.2741 - accuracy: 0.5933\n",
      "Epoch 6/8\n",
      "354/354 [==============================] - 1s 3ms/step - loss: 1.2285 - accuracy: 0.6054\n",
      "Epoch 7/8\n",
      "354/354 [==============================] - 1s 3ms/step - loss: 1.1904 - accuracy: 0.6222\n",
      "Epoch 8/8\n",
      "354/354 [==============================] - 1s 3ms/step - loss: 1.1595 - accuracy: 0.6276\n"
     ]
    },
    {
     "data": {
      "text/plain": [
       "<keras.callbacks.History at 0x7f9393c59100>"
      ]
     },
     "execution_count": 19,
     "metadata": {},
     "output_type": "execute_result"
    }
   ],
   "source": [
    "model.fit(X_train_vect, Y_train, batch_size=32, epochs=8)"
   ]
  },
  {
   "cell_type": "code",
   "execution_count": 20,
   "metadata": {},
   "outputs": [
    {
     "name": "stdout",
     "output_type": "stream",
     "text": [
      "236/236 [==============================] - 1s 2ms/step\n",
      "Test Accuracy : 0.5553637812002125\n",
      "\n",
      "Classification Report : \n",
      "                          precision    recall  f1-score   support\n",
      "\n",
      "             alt.atheism       0.31      0.42      0.35       319\n",
      "           comp.graphics       0.57      0.55      0.56       389\n",
      " comp.os.ms-windows.misc       0.43      0.53      0.48       394\n",
      "comp.sys.ibm.pc.hardware       0.47      0.48      0.48       392\n",
      "   comp.sys.mac.hardware       0.49      0.42      0.45       385\n",
      "          comp.windows.x       0.73      0.43      0.54       395\n",
      "            misc.forsale       0.84      0.53      0.65       390\n",
      "               rec.autos       0.66      0.62      0.64       396\n",
      "         rec.motorcycles       0.37      0.67      0.48       398\n",
      "      rec.sport.baseball       0.74      0.66      0.70       397\n",
      "        rec.sport.hockey       0.74      0.83      0.78       399\n",
      "               sci.crypt       0.54      0.63      0.59       396\n",
      "         sci.electronics       0.42      0.52      0.47       393\n",
      "                 sci.med       0.79      0.70      0.74       396\n",
      "               sci.space       0.54      0.69      0.61       394\n",
      "  soc.religion.christian       0.67      0.63      0.65       398\n",
      "      talk.politics.guns       0.54      0.48      0.51       364\n",
      "   talk.politics.mideast       0.73      0.62      0.67       376\n",
      "      talk.politics.misc       0.43      0.34      0.38       310\n",
      "      talk.religion.misc       0.26      0.06      0.10       251\n",
      "\n",
      "                accuracy                           0.56      7532\n",
      "               macro avg       0.56      0.54      0.54      7532\n",
      "            weighted avg       0.57      0.56      0.55      7532\n",
      "\n"
     ]
    }
   ],
   "source": [
    "from sklearn.metrics import accuracy_score, classification_report\n",
    "\n",
    "Y_preds = model.predict(X_test_vect).argmax(axis=-1)\n",
    "\n",
    "print(\"Test Accuracy : {}\".format(accuracy_score(Y_test, Y_preds)))\n",
    "print(\"\\nClassification Report : \")\n",
    "print(classification_report(Y_test, Y_preds, target_names=labels))"
   ]
  },
  {
   "cell_type": "code",
   "execution_count": null,
   "metadata": {},
   "outputs": [],
   "source": []
  }
 ],
 "metadata": {
  "kernelspec": {
   "display_name": "Python 3",
   "language": "python",
   "name": "python3"
  },
  "language_info": {
   "codemirror_mode": {
    "name": "ipython",
    "version": 3
   },
   "file_extension": ".py",
   "mimetype": "text/x-python",
   "name": "python",
   "nbconvert_exporter": "python",
   "pygments_lexer": "ipython3",
   "version": "3.8.10"
  }
 },
 "nbformat": 4,
 "nbformat_minor": 4
}
